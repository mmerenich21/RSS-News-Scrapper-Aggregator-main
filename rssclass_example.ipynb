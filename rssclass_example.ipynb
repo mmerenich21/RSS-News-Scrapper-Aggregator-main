{
 "cells": [
  {
   "cell_type": "code",
   "execution_count": 1,
   "metadata": {},
   "outputs": [],
   "source": [
    "import rssclass"
   ]
  },
  {
   "cell_type": "code",
   "execution_count": 2,
   "metadata": {},
   "outputs": [],
   "source": [
    "# EXAMPLE - create an instance with a special topic keyword\n",
    "test = rssclass.RssClass(topic = 'Data Science')"
   ]
  },
  {
   "cell_type": "code",
   "execution_count": null,
   "metadata": {},
   "outputs": [],
   "source": [
    "# EXAMPLE - create the data structure for the topic\n",
    "test.headline_summary(topic = 'Data Science')"
   ]
  },
  {
   "cell_type": "code",
   "execution_count": null,
   "metadata": {},
   "outputs": [],
   "source": [
    "# EXAMPLE - to create the data structure for all topics, execute the code below\n",
    "\n",
    "for topic in test.topics:\n",
    "    test.headline_summary(topic)"
   ]
  },
  {
   "cell_type": "code",
   "execution_count": null,
   "metadata": {},
   "outputs": [],
   "source": [
    "# EXAMPLE - to access data\n",
    "\n",
    "for topic in test.topics:\n",
    "    with open(f\"./data/{topic}/story_meta.json\", 'r') as f:\n",
    "        stry_group_data = json.load(f)\n",
    "        for story_group_ID in stry_group_data:\n",
    "            with open(f\"./data/{topic}/{story_group_ID}/article_metadata.json\", 'r') as f:\n",
    "                article_data = json.load(f)\n",
    "                for article_ID in article_data:\n",
    "                    print(article_ID)\n",
    "                    print(article_data[article_ID]['Link'])\n",
    "                    with open(f\"./data/{topic}/{story_group_ID}/{article_ID}.txt\", 'r') as f:\n",
    "                        article_txt = f.read()\n",
    "                    print(article_txt)\n",
    "                    break\n",
    "                break\n",
    "            break"
   ]
  }
 ],
 "metadata": {
  "kernelspec": {
   "display_name": "Python 3",
   "language": "python",
   "name": "python3"
  },
  "language_info": {
   "codemirror_mode": {
    "name": "ipython",
    "version": 3
   },
   "file_extension": ".py",
   "mimetype": "text/x-python",
   "name": "python",
   "nbconvert_exporter": "python",
   "pygments_lexer": "ipython3",
   "version": "3.7.1"
  }
 },
 "nbformat": 4,
 "nbformat_minor": 2
}
